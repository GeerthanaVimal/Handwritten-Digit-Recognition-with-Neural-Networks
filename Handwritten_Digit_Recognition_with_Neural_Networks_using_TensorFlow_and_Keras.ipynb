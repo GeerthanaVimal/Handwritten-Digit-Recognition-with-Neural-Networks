{
  "nbformat": 4,
  "nbformat_minor": 0,
  "metadata": {
    "colab": {
      "provenance": [],
      "gpuType": "T4"
    },
    "kernelspec": {
      "name": "python3",
      "display_name": "Python 3"
    },
    "language_info": {
      "name": "python"
    },
    "accelerator": "GPU"
  },
  "cells": [
    {
      "cell_type": "code",
      "execution_count": 1,
      "metadata": {
        "id": "L8A8ssCjFA3g"
      },
      "outputs": [],
      "source": [
        "import\ttensorflow\n",
        "from\ttensorflow\timport\tkeras\n",
        "from\ttensorflow.keras\timport\tSequential\n",
        "from\tkeras.layers\timport\tDense,Flatten"
      ]
    },
    {
      "cell_type": "code",
      "source": [
        "#\tmnist\tdataset\tis\tvery\tfamous\tdataset\tthats\twhy\tit\tis\talready\tin\tkeras\tlibrary\tand\tused\tthat\n",
        "(X_train,y_train),(X_test,y_test)\t=\tkeras.datasets.mnist.load_data()"
      ],
      "metadata": {
        "id": "wEwZkHQZFEgk",
        "colab": {
          "base_uri": "https://localhost:8080/"
        },
        "outputId": "bfe790d2-c995-4161-9292-d88742fe9640"
      },
      "execution_count": 2,
      "outputs": [
        {
          "output_type": "stream",
          "name": "stdout",
          "text": [
            "Downloading data from https://storage.googleapis.com/tensorflow/tf-keras-datasets/mnist.npz\n",
            "11490434/11490434 [==============================] - 0s 0us/step\n"
          ]
        }
      ]
    },
    {
      "cell_type": "code",
      "source": [
        "X_train.shape"
      ],
      "metadata": {
        "colab": {
          "base_uri": "https://localhost:8080/"
        },
        "id": "XQFV20VJFMSO",
        "outputId": "37e62fc8-798e-4132-a98d-6addb9c7508c"
      },
      "execution_count": 3,
      "outputs": [
        {
          "output_type": "execute_result",
          "data": {
            "text/plain": [
              "(60000, 28, 28)"
            ]
          },
          "metadata": {},
          "execution_count": 3
        }
      ]
    },
    {
      "cell_type": "code",
      "source": [
        "X_train[10].shape"
      ],
      "metadata": {
        "colab": {
          "base_uri": "https://localhost:8080/"
        },
        "id": "wsRkVoo-FQ6n",
        "outputId": "0a17a9db-19e8-4fe6-8bb0-9030bb0989cb"
      },
      "execution_count": 4,
      "outputs": [
        {
          "output_type": "execute_result",
          "data": {
            "text/plain": [
              "(28, 28)"
            ]
          },
          "metadata": {},
          "execution_count": 4
        }
      ]
    },
    {
      "cell_type": "code",
      "source": [
        "import\tnumpy\tas\tnp\n",
        "import\tpandas\tas\tpd\n",
        "import\tseaborn\tas\tsns\n",
        "import\tmatplotlib.pyplot\tas\tplt"
      ],
      "metadata": {
        "id": "bhfQSCT3FX8u"
      },
      "execution_count": 5,
      "outputs": []
    },
    {
      "cell_type": "code",
      "source": [
        "plt.imshow(X_train[40])"
      ],
      "metadata": {
        "colab": {
          "base_uri": "https://localhost:8080/",
          "height": 447
        },
        "id": "SrLhJSP2Febg",
        "outputId": "03a16da5-314c-4435-cf3c-be08194b10b2"
      },
      "execution_count": 6,
      "outputs": [
        {
          "output_type": "execute_result",
          "data": {
            "text/plain": [
              "<matplotlib.image.AxesImage at 0x7ad9955da3e0>"
            ]
          },
          "metadata": {},
          "execution_count": 6
        },
        {
          "output_type": "display_data",
          "data": {
            "text/plain": [
              "<Figure size 640x480 with 1 Axes>"
            ],
            "image/png": "[encoded data removed]"
          },
          "metadata": {}
        }
      ]
    },
    {
      "cell_type": "code",
      "source": [
        "X_train\t=\tX_train/255\n",
        "X_test\t=\tX_test/255"
      ],
      "metadata": {
        "id": "s1YwkdJmFpAG"
      },
      "execution_count": 7,
      "outputs": []
    },
    {
      "cell_type": "code",
      "source": [
        "X_train[0]"
      ],
      "metadata": {
        "colab": {
          "base_uri": "https://localhost:8080/"
        },
        "id": "rF-O-WWRGH5g",
        "outputId": "83ac7b71-28de-4d18-a6e9-f9dd4fd7b77b"
      },
      "execution_count": 8,
      "outputs": [
        {
          "output_type": "execute_result",
          "data": {
            "text/plain": [
              "array([[0.        , 0.        , 0.        , 0.        , 0.        ,\n",
              "        0.        , 0.        , 0.        , 0.        , 0.        ,\n",
              "        0.        , 0.        , 0.        , 0.        , 0.        ,\n",
              "        0.        , 0.        , 0.        , 0.        , 0.        ,\n",
              "        0.        , 0.        , 0.        , 0.        , 0.        ,\n",
              "        0.        , 0.        , 0.        ],\n",
              "       [0.        , 0.        , 0.        , 0.        , 0.        ,\n",
              "        0.        , 0.        , 0.        , 0.        , 0.        ,\n",
              "        0.        , 0.        , 0.        , 0.        , 0.        ,\n",
              "        0.        , 0.        , 0.        , 0.        , 0.        ,\n",
              "        0.        , 0.        , 0.        , 0.        , 0.        ,\n",
              "        0.        , 0.        , 0.        ],\n",
              "       [0.        , 0.        , 0.        , 0.        , 0.        ,\n",
              "        0.        , 0.        , 0.        , 0.        , 0.        ,\n",
              "        0.        , 0.        , 0.        , 0.        , 0.        ,\n",
              "        0.        , 0.        , 0.        , 0.        , 0.        ,\n",
              "        0.        , 0.        , 0.        , 0.        , 0.        ,\n",
              "        0.        , 0.        , 0.        ],\n",
              "       [0.        , 0.        , 0.        , 0.        , 0.        ,\n",
              "        0.        , 0.        , 0.        , 0.        , 0.        ,\n",
              "        0.        , 0.        , 0.        , 0.        , 0.        ,\n",
              "        0.        , 0.        , 0.        , 0.        , 0.        ,\n",
              "        0.        , 0.        , 0.        , 0.        , 0.        ,\n",
              "        0.        , 0.        , 0.        ],\n",
              "       [0.        , 0.        , 0.        , 0.        , 0.        ,\n",
              "        0.        , 0.        , 0.        , 0.        , 0.        ,\n",
              "        0.        , 0.        , 0.        , 0.        , 0.        ,\n",
              "        0.        , 0.        , 0.        , 0.        , 0.        ,\n",
              "        0.        , 0.        , 0.        , 0.        , 0.        ,\n",
              "        0.        , 0.        , 0.        ],\n",
              "       [0.        , 0.        , 0.        , 0.        , 0.        ,\n",
              "        0.        , 0.        , 0.        , 0.        , 0.        ,\n",
              "        0.        , 0.        , 0.01176471, 0.07058824, 0.07058824,\n",
              "        0.07058824, 0.49411765, 0.53333333, 0.68627451, 0.10196078,\n",
              "        0.65098039, 1.        , 0.96862745, 0.49803922, 0.        ,\n",
              "        0.        , 0.        , 0.        ],\n",
              "       [0.        , 0.        , 0.        , 0.        , 0.        ,\n",
              "        0.        , 0.        , 0.        , 0.11764706, 0.14117647,\n",
              "        0.36862745, 0.60392157, 0.66666667, 0.99215686, 0.99215686,\n",
              "        0.99215686, 0.99215686, 0.99215686, 0.88235294, 0.6745098 ,\n",
              "        0.99215686, 0.94901961, 0.76470588, 0.25098039, 0.        ,\n",
              "        0.        , 0.        , 0.        ],\n",
              "       [0.        , 0.        , 0.        , 0.        , 0.        ,\n",
              "        0.        , 0.        , 0.19215686, 0.93333333, 0.99215686,\n",
              "        0.99215686, 0.99215686, 0.99215686, 0.99215686, 0.99215686,\n",
              "        0.99215686, 0.99215686, 0.98431373, 0.36470588, 0.32156863,\n",
              "        0.32156863, 0.21960784, 0.15294118, 0.        , 0.        ,\n",
              "        0.        , 0.        , 0.        ],\n",
              "       [0.        , 0.        , 0.        , 0.        , 0.        ,\n",
              "        0.        , 0.        , 0.07058824, 0.85882353, 0.99215686,\n",
              "        0.99215686, 0.99215686, 0.99215686, 0.99215686, 0.77647059,\n",
              "        0.71372549, 0.96862745, 0.94509804, 0.        , 0.        ,\n",
              "        0.        , 0.        , 0.        , 0.        , 0.        ,\n",
              "        0.        , 0.        , 0.        ],\n",
              "       [0.        , 0.        , 0.        , 0.        , 0.        ,\n",
              "        0.        , 0.        , 0.        , 0.31372549, 0.61176471,\n",
              "        0.41960784, 0.99215686, 0.99215686, 0.80392157, 0.04313725,\n",
              "        0.        , 0.16862745, 0.60392157, 0.        , 0.        ,\n",
              "        0.        , 0.        , 0.        , 0.        , 0.        ,\n",
              "        0.        , 0.        , 0.        ],\n",
              "       [0.        , 0.        , 0.        , 0.        , 0.        ,\n",
              "        0.        , 0.        , 0.        , 0.        , 0.05490196,\n",
              "        0.00392157, 0.60392157, 0.99215686, 0.35294118, 0.        ,\n",
              "        0.        , 0.        , 0.        , 0.        , 0.        ,\n",
              "        0.        , 0.        , 0.        , 0.        , 0.        ,\n",
              "        0.        , 0.        , 0.        ],\n",
              "       [0.        , 0.        , 0.        , 0.        , 0.        ,\n",
              "        0.        , 0.        , 0.        , 0.        , 0.        ,\n",
              "        0.        , 0.54509804, 0.99215686, 0.74509804, 0.00784314,\n",
              "        0.        , 0.        , 0.        , 0.        , 0.        ,\n",
              "        0.        , 0.        , 0.        , 0.        , 0.        ,\n",
              "        0.        , 0.        , 0.        ],\n",
              "       [0.        , 0.        , 0.        , 0.        , 0.        ,\n",
              "        0.        , 0.        , 0.        , 0.        , 0.        ,\n",
              "        0.        , 0.04313725, 0.74509804, 0.99215686, 0.2745098 ,\n",
              "        0.        , 0.        , 0.        , 0.        , 0.        ,\n",
              "        0.        , 0.        , 0.        , 0.        , 0.        ,\n",
              "        0.        , 0.        , 0.        ],\n",
              "       [0.        , 0.        , 0.        , 0.        , 0.        ,\n",
              "        0.        , 0.        , 0.        , 0.        , 0.        ,\n",
              "        0.        , 0.        , 0.1372549 , 0.94509804, 0.88235294,\n",
              "        0.62745098, 0.42352941, 0.00392157, 0.        , 0.        ,\n",
              "        0.        , 0.        , 0.        , 0.        , 0.        ,\n",
              "        0.        , 0.        , 0.        ],\n",
              "       [0.        , 0.        , 0.        , 0.        , 0.        ,\n",
              "        0.        , 0.        , 0.        , 0.        , 0.        ,\n",
              "        0.        , 0.        , 0.        , 0.31764706, 0.94117647,\n",
              "        0.99215686, 0.99215686, 0.46666667, 0.09803922, 0.        ,\n",
              "        0.        , 0.        , 0.        , 0.        , 0.        ,\n",
              "        0.        , 0.        , 0.        ],\n",
              "       [0.        , 0.        , 0.        , 0.        , 0.        ,\n",
              "        0.        , 0.        , 0.        , 0.        , 0.        ,\n",
              "        0.        , 0.        , 0.        , 0.        , 0.17647059,\n",
              "        0.72941176, 0.99215686, 0.99215686, 0.58823529, 0.10588235,\n",
              "        0.        , 0.        , 0.        , 0.        , 0.        ,\n",
              "        0.        , 0.        , 0.        ],\n",
              "       [0.        , 0.        , 0.        , 0.        , 0.        ,\n",
              "        0.        , 0.        , 0.        , 0.        , 0.        ,\n",
              "        0.        , 0.        , 0.        , 0.        , 0.        ,\n",
              "        0.0627451 , 0.36470588, 0.98823529, 0.99215686, 0.73333333,\n",
              "        0.        , 0.        , 0.        , 0.        , 0.        ,\n",
              "        0.        , 0.        , 0.        ],\n",
              "       [0.        , 0.        , 0.        , 0.        , 0.        ,\n",
              "        0.        , 0.        , 0.        , 0.        , 0.        ,\n",
              "        0.        , 0.        , 0.        , 0.        , 0.        ,\n",
              "        0.        , 0.        , 0.97647059, 0.99215686, 0.97647059,\n",
              "        0.25098039, 0.        , 0.        , 0.        , 0.        ,\n",
              "        0.        , 0.        , 0.        ],\n",
              "       [0.        , 0.        , 0.        , 0.        , 0.        ,\n",
              "        0.        , 0.        , 0.        , 0.        , 0.        ,\n",
              "        0.        , 0.        , 0.        , 0.        , 0.18039216,\n",
              "        0.50980392, 0.71764706, 0.99215686, 0.99215686, 0.81176471,\n",
              "        0.00784314, 0.        , 0.        , 0.        , 0.        ,\n",
              "        0.        , 0.        , 0.        ],\n",
              "       [0.        , 0.        , 0.        , 0.        , 0.        ,\n",
              "        0.        , 0.        , 0.        , 0.        , 0.        ,\n",
              "        0.        , 0.        , 0.15294118, 0.58039216, 0.89803922,\n",
              "        0.99215686, 0.99215686, 0.99215686, 0.98039216, 0.71372549,\n",
              "        0.        , 0.        , 0.        , 0.        , 0.        ,\n",
              "        0.        , 0.        , 0.        ],\n",
              "       [0.        , 0.        , 0.        , 0.        , 0.        ,\n",
              "        0.        , 0.        , 0.        , 0.        , 0.        ,\n",
              "        0.09411765, 0.44705882, 0.86666667, 0.99215686, 0.99215686,\n",
              "        0.99215686, 0.99215686, 0.78823529, 0.30588235, 0.        ,\n",
              "        0.        , 0.        , 0.        , 0.        , 0.        ,\n",
              "        0.        , 0.        , 0.        ],\n",
              "       [0.        , 0.        , 0.        , 0.        , 0.        ,\n",
              "        0.        , 0.        , 0.        , 0.09019608, 0.25882353,\n",
              "        0.83529412, 0.99215686, 0.99215686, 0.99215686, 0.99215686,\n",
              "        0.77647059, 0.31764706, 0.00784314, 0.        , 0.        ,\n",
              "        0.        , 0.        , 0.        , 0.        , 0.        ,\n",
              "        0.        , 0.        , 0.        ],\n",
              "       [0.        , 0.        , 0.        , 0.        , 0.        ,\n",
              "        0.        , 0.07058824, 0.67058824, 0.85882353, 0.99215686,\n",
              "        0.99215686, 0.99215686, 0.99215686, 0.76470588, 0.31372549,\n",
              "        0.03529412, 0.        , 0.        , 0.        , 0.        ,\n",
              "        0.        , 0.        , 0.        , 0.        , 0.        ,\n",
              "        0.        , 0.        , 0.        ],\n",
              "       [0.        , 0.        , 0.        , 0.        , 0.21568627,\n",
              "        0.6745098 , 0.88627451, 0.99215686, 0.99215686, 0.99215686,\n",
              "        0.99215686, 0.95686275, 0.52156863, 0.04313725, 0.        ,\n",
              "        0.        , 0.        , 0.        , 0.        , 0.        ,\n",
              "        0.        , 0.        , 0.        , 0.        , 0.        ,\n",
              "        0.        , 0.        , 0.        ],\n",
              "       [0.        , 0.        , 0.        , 0.        , 0.53333333,\n",
              "        0.99215686, 0.99215686, 0.99215686, 0.83137255, 0.52941176,\n",
              "        0.51764706, 0.0627451 , 0.        , 0.        , 0.        ,\n",
              "        0.        , 0.        , 0.        , 0.        , 0.        ,\n",
              "        0.        , 0.        , 0.        , 0.        , 0.        ,\n",
              "        0.        , 0.        , 0.        ],\n",
              "       [0.        , 0.        , 0.        , 0.        , 0.        ,\n",
              "        0.        , 0.        , 0.        , 0.        , 0.        ,\n",
              "        0.        , 0.        , 0.        , 0.        , 0.        ,\n",
              "        0.        , 0.        , 0.        , 0.        , 0.        ,\n",
              "        0.        , 0.        , 0.        , 0.        , 0.        ,\n",
              "        0.        , 0.        , 0.        ],\n",
              "       [0.        , 0.        , 0.        , 0.        , 0.        ,\n",
              "        0.        , 0.        , 0.        , 0.        , 0.        ,\n",
              "        0.        , 0.        , 0.        , 0.        , 0.        ,\n",
              "        0.        , 0.        , 0.        , 0.        , 0.        ,\n",
              "        0.        , 0.        , 0.        , 0.        , 0.        ,\n",
              "        0.        , 0.        , 0.        ],\n",
              "       [0.        , 0.        , 0.        , 0.        , 0.        ,\n",
              "        0.        , 0.        , 0.        , 0.        , 0.        ,\n",
              "        0.        , 0.        , 0.        , 0.        , 0.        ,\n",
              "        0.        , 0.        , 0.        , 0.        , 0.        ,\n",
              "        0.        , 0.        , 0.        , 0.        , 0.        ,\n",
              "        0.        , 0.        , 0.        ]])"
            ]
          },
          "metadata": {},
          "execution_count": 8
        }
      ]
    },
    {
      "cell_type": "code",
      "source": [
        "model\t=\tSequential()\n",
        "model.add(Flatten(input_shape=(28,28)))\n",
        "model.add(Dense(128,activation='relu'))\n",
        "model.add(Dense(32,activation='relu'))\n",
        "model.add(Dense(10,activation='softmax'))\n",
        "model.summary()"
      ],
      "metadata": {
        "colab": {
          "base_uri": "https://localhost:8080/"
        },
        "id": "KobzJ9RqGLkk",
        "outputId": "827b9580-a6c6-4f5b-b93e-a639499f48b9"
      },
      "execution_count": 9,
      "outputs": [
        {
          "output_type": "stream",
          "name": "stdout",
          "text": [
            "Model: \"sequential\"\n",
            "_________________________________________________________________\n",
            " Layer (type)                Output Shape              Param #   \n",
            "=================================================================\n",
            " flatten (Flatten)           (None, 784)               0         \n",
            "                                                                 \n",
            " dense (Dense)               (None, 128)               100480    \n",
            "                                                                 \n",
            " dense_1 (Dense)             (None, 32)                4128      \n",
            "                                                                 \n",
            " dense_2 (Dense)             (None, 10)                330       \n",
            "                                                                 \n",
            "=================================================================\n",
            "Total params: 104938 (409.91 KB)\n",
            "Trainable params: 104938 (409.91 KB)\n",
            "Non-trainable params: 0 (0.00 Byte)\n",
            "_________________________________________________________________\n"
          ]
        }
      ]
    },
    {
      "cell_type": "code",
      "source": [
        "model.compile(loss='sparse_categorical_crossentropy',optimizer='Adam',metrics=['accuracy'])"
      ],
      "metadata": {
        "id": "XuiTBrxgGZSH"
      },
      "execution_count": 10,
      "outputs": []
    },
    {
      "cell_type": "code",
      "source": [
        "history\t=\tmodel.fit(X_train,y_train,epochs=100,validation_split=0.2)"
      ],
      "metadata": {
        "colab": {
          "base_uri": "https://localhost:8080/"
        },
        "id": "JoGr3zGXGx3C",
        "outputId": "e3c2dd80-fd3b-4c38-8141-c0ff8d5fd7be"
      },
      "execution_count": 11,
      "outputs": [
        {
          "output_type": "stream",
          "name": "stdout",
          "text": [
            "Epoch 1/100\n",
            "1500/1500 [==============================] - 9s 4ms/step - loss: 0.2898 - accuracy: 0.9170 - val_loss: 0.1467 - val_accuracy: 0.9568\n",
            "Epoch 2/100\n",
            "1500/1500 [==============================] - 16s 11ms/step - loss: 0.1211 - accuracy: 0.9632 - val_loss: 0.1131 - val_accuracy: 0.9649\n",
            "Epoch 3/100\n",
            "1500/1500 [==============================] - 7s 5ms/step - loss: 0.0825 - accuracy: 0.9742 - val_loss: 0.1146 - val_accuracy: 0.9635\n",
            "Epoch 4/100\n",
            "1500/1500 [==============================] - 9s 6ms/step - loss: 0.0622 - accuracy: 0.9811 - val_loss: 0.0908 - val_accuracy: 0.9729\n",
            "Epoch 5/100\n",
            "1500/1500 [==============================] - 12s 8ms/step - loss: 0.0481 - accuracy: 0.9848 - val_loss: 0.1028 - val_accuracy: 0.9703\n",
            "Epoch 6/100\n",
            "1500/1500 [==============================] - 13s 9ms/step - loss: 0.0380 - accuracy: 0.9876 - val_loss: 0.1055 - val_accuracy: 0.9688\n",
            "Epoch 7/100\n",
            "1500/1500 [==============================] - 5s 3ms/step - loss: 0.0325 - accuracy: 0.9891 - val_loss: 0.1084 - val_accuracy: 0.9718\n",
            "Epoch 8/100\n",
            "1500/1500 [==============================] - 9s 6ms/step - loss: 0.0257 - accuracy: 0.9919 - val_loss: 0.0915 - val_accuracy: 0.9750\n",
            "Epoch 9/100\n",
            "1500/1500 [==============================] - 8s 6ms/step - loss: 0.0217 - accuracy: 0.9927 - val_loss: 0.1162 - val_accuracy: 0.9717\n",
            "Epoch 10/100\n",
            "1500/1500 [==============================] - 8s 5ms/step - loss: 0.0196 - accuracy: 0.9931 - val_loss: 0.1332 - val_accuracy: 0.9688\n",
            "Epoch 11/100\n",
            "1500/1500 [==============================] - 6s 4ms/step - loss: 0.0183 - accuracy: 0.9943 - val_loss: 0.1083 - val_accuracy: 0.9753\n",
            "Epoch 12/100\n",
            "1500/1500 [==============================] - 10s 7ms/step - loss: 0.0150 - accuracy: 0.9950 - val_loss: 0.1207 - val_accuracy: 0.9736\n",
            "Epoch 13/100\n",
            "1500/1500 [==============================] - 9s 6ms/step - loss: 0.0146 - accuracy: 0.9952 - val_loss: 0.1213 - val_accuracy: 0.9732\n",
            "Epoch 14/100\n",
            "1500/1500 [==============================] - 10s 6ms/step - loss: 0.0125 - accuracy: 0.9957 - val_loss: 0.1229 - val_accuracy: 0.9728\n",
            "Epoch 15/100\n",
            "1500/1500 [==============================] - 8s 5ms/step - loss: 0.0105 - accuracy: 0.9965 - val_loss: 0.1370 - val_accuracy: 0.9737\n",
            "Epoch 16/100\n",
            "1500/1500 [==============================] - 8s 5ms/step - loss: 0.0138 - accuracy: 0.9952 - val_loss: 0.1307 - val_accuracy: 0.9737\n",
            "Epoch 17/100\n",
            "1500/1500 [==============================] - 9s 6ms/step - loss: 0.0098 - accuracy: 0.9964 - val_loss: 0.1304 - val_accuracy: 0.9760\n",
            "Epoch 18/100\n",
            "1500/1500 [==============================] - 7s 4ms/step - loss: 0.0110 - accuracy: 0.9965 - val_loss: 0.1268 - val_accuracy: 0.9758\n",
            "Epoch 19/100\n",
            "1500/1500 [==============================] - 6s 4ms/step - loss: 0.0105 - accuracy: 0.9966 - val_loss: 0.1425 - val_accuracy: 0.9735\n",
            "Epoch 20/100\n",
            "1500/1500 [==============================] - 10s 7ms/step - loss: 0.0102 - accuracy: 0.9962 - val_loss: 0.1416 - val_accuracy: 0.9758\n",
            "Epoch 21/100\n",
            "1500/1500 [==============================] - 10s 6ms/step - loss: 0.0072 - accuracy: 0.9975 - val_loss: 0.1353 - val_accuracy: 0.9747\n",
            "Epoch 22/100\n",
            "1500/1500 [==============================] - 6s 4ms/step - loss: 0.0084 - accuracy: 0.9974 - val_loss: 0.1597 - val_accuracy: 0.9745\n",
            "Epoch 23/100\n",
            "1500/1500 [==============================] - 10s 7ms/step - loss: 0.0087 - accuracy: 0.9972 - val_loss: 0.1534 - val_accuracy: 0.9732\n",
            "Epoch 24/100\n",
            "1500/1500 [==============================] - 13s 9ms/step - loss: 0.0068 - accuracy: 0.9976 - val_loss: 0.1671 - val_accuracy: 0.9735\n",
            "Epoch 25/100\n",
            "1500/1500 [==============================] - 8s 5ms/step - loss: 0.0093 - accuracy: 0.9971 - val_loss: 0.1400 - val_accuracy: 0.9760\n",
            "Epoch 26/100\n",
            "1500/1500 [==============================] - 11s 7ms/step - loss: 0.0059 - accuracy: 0.9981 - val_loss: 0.1532 - val_accuracy: 0.9747\n",
            "Epoch 27/100\n",
            "1500/1500 [==============================] - 7s 5ms/step - loss: 0.0108 - accuracy: 0.9964 - val_loss: 0.1424 - val_accuracy: 0.9767\n",
            "Epoch 28/100\n",
            "1500/1500 [==============================] - 10s 6ms/step - loss: 0.0028 - accuracy: 0.9991 - val_loss: 0.1418 - val_accuracy: 0.9779\n",
            "Epoch 29/100\n",
            "1500/1500 [==============================] - 9s 6ms/step - loss: 0.0114 - accuracy: 0.9963 - val_loss: 0.1582 - val_accuracy: 0.9758\n",
            "Epoch 30/100\n",
            "1500/1500 [==============================] - 12s 8ms/step - loss: 0.0071 - accuracy: 0.9976 - val_loss: 0.1735 - val_accuracy: 0.9737\n",
            "Epoch 31/100\n",
            "1500/1500 [==============================] - 7s 5ms/step - loss: 0.0073 - accuracy: 0.9977 - val_loss: 0.1439 - val_accuracy: 0.9780\n",
            "Epoch 32/100\n",
            "1500/1500 [==============================] - 12s 8ms/step - loss: 0.0076 - accuracy: 0.9976 - val_loss: 0.1664 - val_accuracy: 0.9770\n",
            "Epoch 33/100\n",
            "1500/1500 [==============================] - 9s 6ms/step - loss: 0.0058 - accuracy: 0.9982 - val_loss: 0.1675 - val_accuracy: 0.9772\n",
            "Epoch 34/100\n",
            "1500/1500 [==============================] - 6s 4ms/step - loss: 0.0075 - accuracy: 0.9979 - val_loss: 0.1698 - val_accuracy: 0.9767\n",
            "Epoch 35/100\n",
            "1500/1500 [==============================] - 8s 5ms/step - loss: 0.0061 - accuracy: 0.9983 - val_loss: 0.1775 - val_accuracy: 0.9768\n",
            "Epoch 36/100\n",
            "1500/1500 [==============================] - 9s 6ms/step - loss: 0.0064 - accuracy: 0.9981 - val_loss: 0.1879 - val_accuracy: 0.9743\n",
            "Epoch 37/100\n",
            "1500/1500 [==============================] - 6s 4ms/step - loss: 0.0046 - accuracy: 0.9988 - val_loss: 0.1922 - val_accuracy: 0.9769\n",
            "Epoch 38/100\n",
            "1500/1500 [==============================] - 6s 4ms/step - loss: 0.0065 - accuracy: 0.9979 - val_loss: 0.1811 - val_accuracy: 0.9778\n",
            "Epoch 39/100\n",
            "1500/1500 [==============================] - 5s 3ms/step - loss: 0.0063 - accuracy: 0.9983 - val_loss: 0.1844 - val_accuracy: 0.9757\n",
            "Epoch 40/100\n",
            "1500/1500 [==============================] - 7s 5ms/step - loss: 0.0066 - accuracy: 0.9979 - val_loss: 0.1836 - val_accuracy: 0.9748\n",
            "Epoch 41/100\n",
            "1500/1500 [==============================] - 7s 5ms/step - loss: 0.0047 - accuracy: 0.9985 - val_loss: 0.1883 - val_accuracy: 0.9757\n",
            "Epoch 42/100\n",
            "1500/1500 [==============================] - 8s 5ms/step - loss: 0.0085 - accuracy: 0.9976 - val_loss: 0.2110 - val_accuracy: 0.9737\n",
            "Epoch 43/100\n",
            "1500/1500 [==============================] - 9s 6ms/step - loss: 0.0053 - accuracy: 0.9983 - val_loss: 0.1828 - val_accuracy: 0.9787\n",
            "Epoch 44/100\n",
            "1500/1500 [==============================] - 13s 8ms/step - loss: 0.0027 - accuracy: 0.9992 - val_loss: 0.1843 - val_accuracy: 0.9781\n",
            "Epoch 45/100\n",
            "1500/1500 [==============================] - 11s 7ms/step - loss: 0.0073 - accuracy: 0.9979 - val_loss: 0.1880 - val_accuracy: 0.9771\n",
            "Epoch 46/100\n",
            "1500/1500 [==============================] - 11s 7ms/step - loss: 0.0039 - accuracy: 0.9986 - val_loss: 0.2041 - val_accuracy: 0.9741\n",
            "Epoch 47/100\n",
            "1500/1500 [==============================] - 13s 8ms/step - loss: 0.0065 - accuracy: 0.9981 - val_loss: 0.2027 - val_accuracy: 0.9758\n",
            "Epoch 48/100\n",
            "1500/1500 [==============================] - 11s 8ms/step - loss: 0.0062 - accuracy: 0.9979 - val_loss: 0.2184 - val_accuracy: 0.9746\n",
            "Epoch 49/100\n",
            "1500/1500 [==============================] - 10s 7ms/step - loss: 0.0049 - accuracy: 0.9987 - val_loss: 0.1973 - val_accuracy: 0.9778\n",
            "Epoch 50/100\n",
            "1500/1500 [==============================] - 7s 5ms/step - loss: 0.0052 - accuracy: 0.9984 - val_loss: 0.2118 - val_accuracy: 0.9770\n",
            "Epoch 51/100\n",
            "1500/1500 [==============================] - 7s 5ms/step - loss: 0.0074 - accuracy: 0.9979 - val_loss: 0.1868 - val_accuracy: 0.9762\n",
            "Epoch 52/100\n",
            "1500/1500 [==============================] - 5s 3ms/step - loss: 0.0041 - accuracy: 0.9986 - val_loss: 0.2001 - val_accuracy: 0.9758\n",
            "Epoch 53/100\n",
            "1500/1500 [==============================] - 6s 4ms/step - loss: 0.0034 - accuracy: 0.9990 - val_loss: 0.2354 - val_accuracy: 0.9726\n",
            "Epoch 54/100\n",
            "1500/1500 [==============================] - 11s 7ms/step - loss: 0.0067 - accuracy: 0.9982 - val_loss: 0.2130 - val_accuracy: 0.9773\n",
            "Epoch 55/100\n",
            "1500/1500 [==============================] - 12s 8ms/step - loss: 0.0048 - accuracy: 0.9988 - val_loss: 0.1889 - val_accuracy: 0.9781\n",
            "Epoch 56/100\n",
            "1500/1500 [==============================] - 13s 8ms/step - loss: 0.0018 - accuracy: 0.9993 - val_loss: 0.2291 - val_accuracy: 0.9734\n",
            "Epoch 57/100\n",
            "1500/1500 [==============================] - 11s 7ms/step - loss: 0.0089 - accuracy: 0.9977 - val_loss: 0.2121 - val_accuracy: 0.9766\n",
            "Epoch 58/100\n",
            "1500/1500 [==============================] - 11s 7ms/step - loss: 0.0017 - accuracy: 0.9995 - val_loss: 0.1949 - val_accuracy: 0.9779\n",
            "Epoch 59/100\n",
            "1500/1500 [==============================] - 8s 5ms/step - loss: 0.0061 - accuracy: 0.9979 - val_loss: 0.2072 - val_accuracy: 0.9764\n",
            "Epoch 60/100\n",
            "1500/1500 [==============================] - 8s 5ms/step - loss: 0.0043 - accuracy: 0.9987 - val_loss: 0.1987 - val_accuracy: 0.9786\n",
            "Epoch 61/100\n",
            "1500/1500 [==============================] - 10s 7ms/step - loss: 0.0041 - accuracy: 0.9989 - val_loss: 0.2240 - val_accuracy: 0.9766\n",
            "Epoch 62/100\n",
            "1500/1500 [==============================] - 11s 7ms/step - loss: 0.0068 - accuracy: 0.9981 - val_loss: 0.2268 - val_accuracy: 0.9768\n",
            "Epoch 63/100\n",
            "1500/1500 [==============================] - 7s 4ms/step - loss: 0.0033 - accuracy: 0.9989 - val_loss: 0.2101 - val_accuracy: 0.9785\n",
            "Epoch 64/100\n",
            "1500/1500 [==============================] - 8s 5ms/step - loss: 0.0036 - accuracy: 0.9989 - val_loss: 0.2185 - val_accuracy: 0.9792\n",
            "Epoch 65/100\n",
            "1500/1500 [==============================] - 9s 6ms/step - loss: 0.0050 - accuracy: 0.9986 - val_loss: 0.2723 - val_accuracy: 0.9730\n",
            "Epoch 66/100\n",
            "1500/1500 [==============================] - 11s 7ms/step - loss: 0.0049 - accuracy: 0.9987 - val_loss: 0.2150 - val_accuracy: 0.9774\n",
            "Epoch 67/100\n",
            "1500/1500 [==============================] - 11s 7ms/step - loss: 0.0059 - accuracy: 0.9984 - val_loss: 0.2545 - val_accuracy: 0.9760\n",
            "Epoch 68/100\n",
            "1500/1500 [==============================] - 10s 7ms/step - loss: 0.0049 - accuracy: 0.9987 - val_loss: 0.2163 - val_accuracy: 0.9783\n",
            "Epoch 69/100\n",
            "1500/1500 [==============================] - 6s 4ms/step - loss: 0.0048 - accuracy: 0.9989 - val_loss: 0.2063 - val_accuracy: 0.9784\n",
            "Epoch 70/100\n",
            "1500/1500 [==============================] - 5s 3ms/step - loss: 0.0050 - accuracy: 0.9989 - val_loss: 0.2317 - val_accuracy: 0.9786\n",
            "Epoch 71/100\n",
            "1500/1500 [==============================] - 9s 6ms/step - loss: 0.0045 - accuracy: 0.9987 - val_loss: 0.2521 - val_accuracy: 0.9752\n",
            "Epoch 72/100\n",
            "1500/1500 [==============================] - 10s 7ms/step - loss: 0.0038 - accuracy: 0.9989 - val_loss: 0.2242 - val_accuracy: 0.9764\n",
            "Epoch 73/100\n",
            "1500/1500 [==============================] - 9s 6ms/step - loss: 0.0070 - accuracy: 0.9985 - val_loss: 0.2771 - val_accuracy: 0.9750\n",
            "Epoch 74/100\n",
            "1500/1500 [==============================] - 7s 5ms/step - loss: 0.0036 - accuracy: 0.9991 - val_loss: 0.2315 - val_accuracy: 0.9780\n",
            "Epoch 75/100\n",
            "1500/1500 [==============================] - 7s 5ms/step - loss: 0.0057 - accuracy: 0.9987 - val_loss: 0.2480 - val_accuracy: 0.9779\n",
            "Epoch 76/100\n",
            "1500/1500 [==============================] - 7s 4ms/step - loss: 0.0037 - accuracy: 0.9990 - val_loss: 0.2751 - val_accuracy: 0.9762\n",
            "Epoch 77/100\n",
            "1500/1500 [==============================] - 7s 5ms/step - loss: 0.0045 - accuracy: 0.9987 - val_loss: 0.2496 - val_accuracy: 0.9780\n",
            "Epoch 78/100\n",
            "1500/1500 [==============================] - 9s 6ms/step - loss: 0.0023 - accuracy: 0.9994 - val_loss: 0.2840 - val_accuracy: 0.9758\n",
            "Epoch 79/100\n",
            "1500/1500 [==============================] - 9s 6ms/step - loss: 0.0059 - accuracy: 0.9987 - val_loss: 0.2432 - val_accuracy: 0.9783\n",
            "Epoch 80/100\n",
            "1500/1500 [==============================] - 11s 8ms/step - loss: 0.0029 - accuracy: 0.9992 - val_loss: 0.2591 - val_accuracy: 0.9780\n",
            "Epoch 81/100\n",
            "1500/1500 [==============================] - 6s 4ms/step - loss: 0.0053 - accuracy: 0.9988 - val_loss: 0.2335 - val_accuracy: 0.9788\n",
            "Epoch 82/100\n",
            "1500/1500 [==============================] - 5s 4ms/step - loss: 0.0013 - accuracy: 0.9997 - val_loss: 0.3068 - val_accuracy: 0.9753\n",
            "Epoch 83/100\n",
            "1500/1500 [==============================] - 12s 8ms/step - loss: 0.0077 - accuracy: 0.9981 - val_loss: 0.2452 - val_accuracy: 0.9797\n",
            "Epoch 84/100\n",
            "1500/1500 [==============================] - 9s 6ms/step - loss: 0.0043 - accuracy: 0.9988 - val_loss: 0.3054 - val_accuracy: 0.9745\n",
            "Epoch 85/100\n",
            "1500/1500 [==============================] - 9s 6ms/step - loss: 0.0033 - accuracy: 0.9991 - val_loss: 0.2454 - val_accuracy: 0.9779\n",
            "Epoch 86/100\n",
            "1500/1500 [==============================] - 7s 5ms/step - loss: 0.0035 - accuracy: 0.9991 - val_loss: 0.2656 - val_accuracy: 0.9786\n",
            "Epoch 87/100\n",
            "1500/1500 [==============================] - 8s 5ms/step - loss: 0.0047 - accuracy: 0.9988 - val_loss: 0.2359 - val_accuracy: 0.9773\n",
            "Epoch 88/100\n",
            "1500/1500 [==============================] - 8s 5ms/step - loss: 0.0020 - accuracy: 0.9994 - val_loss: 0.2965 - val_accuracy: 0.9749\n",
            "Epoch 89/100\n",
            "1500/1500 [==============================] - 13s 9ms/step - loss: 0.0055 - accuracy: 0.9986 - val_loss: 0.2353 - val_accuracy: 0.9796\n",
            "Epoch 90/100\n",
            "1500/1500 [==============================] - 8s 5ms/step - loss: 0.0038 - accuracy: 0.9989 - val_loss: 0.2587 - val_accuracy: 0.9773\n",
            "Epoch 91/100\n",
            "1500/1500 [==============================] - 9s 6ms/step - loss: 0.0030 - accuracy: 0.9991 - val_loss: 0.2644 - val_accuracy: 0.9767\n",
            "Epoch 92/100\n",
            "1500/1500 [==============================] - 9s 6ms/step - loss: 0.0040 - accuracy: 0.9991 - val_loss: 0.2830 - val_accuracy: 0.9764\n",
            "Epoch 93/100\n",
            "1500/1500 [==============================] - 10s 7ms/step - loss: 0.0044 - accuracy: 0.9991 - val_loss: 0.2837 - val_accuracy: 0.9770\n",
            "Epoch 94/100\n",
            "1500/1500 [==============================] - 7s 5ms/step - loss: 0.0037 - accuracy: 0.9990 - val_loss: 0.2684 - val_accuracy: 0.9779\n",
            "Epoch 95/100\n",
            "1500/1500 [==============================] - 9s 6ms/step - loss: 0.0039 - accuracy: 0.9991 - val_loss: 0.3011 - val_accuracy: 0.9743\n",
            "Epoch 96/100\n",
            "1500/1500 [==============================] - 9s 6ms/step - loss: 0.0036 - accuracy: 0.9992 - val_loss: 0.2714 - val_accuracy: 0.9768\n",
            "Epoch 97/100\n",
            "1500/1500 [==============================] - 5s 3ms/step - loss: 0.0044 - accuracy: 0.9989 - val_loss: 0.2618 - val_accuracy: 0.9791\n",
            "Epoch 98/100\n",
            "1500/1500 [==============================] - 6s 4ms/step - loss: 0.0042 - accuracy: 0.9991 - val_loss: 0.3029 - val_accuracy: 0.9771\n",
            "Epoch 99/100\n",
            "1500/1500 [==============================] - 10s 6ms/step - loss: 0.0038 - accuracy: 0.9991 - val_loss: 0.2717 - val_accuracy: 0.9775\n",
            "Epoch 100/100\n",
            "1500/1500 [==============================] - 6s 4ms/step - loss: 0.0032 - accuracy: 0.9991 - val_loss: 0.3280 - val_accuracy: 0.9740\n"
          ]
        }
      ]
    },
    {
      "cell_type": "code",
      "source": [
        "model.predict(X_test)"
      ],
      "metadata": {
        "id": "PzT7e-8_HEFY",
        "colab": {
          "base_uri": "https://localhost:8080/"
        },
        "outputId": "52b38e52-04cd-4027-992b-65ce752306d7"
      },
      "execution_count": 12,
      "outputs": [
        {
          "output_type": "stream",
          "name": "stdout",
          "text": [
            "313/313 [==============================] - 1s 2ms/step\n"
          ]
        },
        {
          "output_type": "execute_result",
          "data": {
            "text/plain": [
              "array([[7.7612667e-36, 1.6762861e-26, 1.4232000e-25, ..., 1.0000000e+00,\n",
              "        3.8386928e-28, 4.4743484e-28],\n",
              "       [0.0000000e+00, 0.0000000e+00, 1.0000000e+00, ..., 0.0000000e+00,\n",
              "        4.7147566e-30, 0.0000000e+00],\n",
              "       [1.6820913e-24, 1.0000000e+00, 1.4803977e-23, ..., 7.6565062e-17,\n",
              "        4.0171175e-10, 1.9348545e-34],\n",
              "       ...,\n",
              "       [0.0000000e+00, 1.7511897e-37, 0.0000000e+00, ..., 4.4051401e-24,\n",
              "        6.3641524e-23, 1.2135753e-27],\n",
              "       [0.0000000e+00, 0.0000000e+00, 0.0000000e+00, ..., 3.9354738e-34,\n",
              "        1.1347940e-27, 0.0000000e+00],\n",
              "       [0.0000000e+00, 0.0000000e+00, 0.0000000e+00, ..., 0.0000000e+00,\n",
              "        0.0000000e+00, 0.0000000e+00]], dtype=float32)"
            ]
          },
          "metadata": {},
          "execution_count": 12
        }
      ]
    },
    {
      "cell_type": "code",
      "source": [
        "y_prob\t=\tmodel.predict(X_test)"
      ],
      "metadata": {
        "id": "Rbg3lPqUHFJh",
        "colab": {
          "base_uri": "https://localhost:8080/"
        },
        "outputId": "4c1868aa-801b-4faf-871b-2b36d1a9f6a4"
      },
      "execution_count": 13,
      "outputs": [
        {
          "output_type": "stream",
          "name": "stdout",
          "text": [
            "313/313 [==============================] - 1s 2ms/step\n"
          ]
        }
      ]
    },
    {
      "cell_type": "code",
      "source": [
        "y_prob.argmax(axis=1)"
      ],
      "metadata": {
        "id": "FFes4FIPHJdI",
        "colab": {
          "base_uri": "https://localhost:8080/"
        },
        "outputId": "f4ba4a7c-6038-4bde-94a8-0e5356328ec5"
      },
      "execution_count": 14,
      "outputs": [
        {
          "output_type": "execute_result",
          "data": {
            "text/plain": [
              "array([7, 2, 1, ..., 4, 5, 6])"
            ]
          },
          "metadata": {},
          "execution_count": 14
        }
      ]
    },
    {
      "cell_type": "code",
      "source": [
        "y_pred\t=\ty_prob.argmax(axis=1)"
      ],
      "metadata": {
        "id": "FnIsKrfPHL-3"
      },
      "execution_count": 15,
      "outputs": []
    },
    {
      "cell_type": "code",
      "source": [
        "from\tsklearn.metrics\timport\taccuracy_score\n",
        "accuracy_score(y_test,y_pred)"
      ],
      "metadata": {
        "id": "04pGqNH4HQ8G",
        "colab": {
          "base_uri": "https://localhost:8080/"
        },
        "outputId": "f447744c-3731-45cb-eb95-ac0fd209677d"
      },
      "execution_count": 16,
      "outputs": [
        {
          "output_type": "execute_result",
          "data": {
            "text/plain": [
              "0.9752"
            ]
          },
          "metadata": {},
          "execution_count": 16
        }
      ]
    },
    {
      "cell_type": "code",
      "source": [
        "plt.plot(history.history['loss'])\n",
        "plt.plot(history.history['val_loss'])\n",
        "plt.show()"
      ],
      "metadata": {
        "id": "KP2OQnoSHWEy",
        "colab": {
          "base_uri": "https://localhost:8080/",
          "height": 430
        },
        "outputId": "d3a3d49f-aab0-46c9-d507-cce35056e299"
      },
      "execution_count": 17,
      "outputs": [
        {
          "output_type": "display_data",
          "data": {
            "text/plain": [
              "<Figure size 640x480 with 1 Axes>"
            ],
            "image/png": "[encoded data removed]"
          },
          "metadata": {}
        }
      ]
    },
    {
      "cell_type": "code",
      "source": [
        "plt.plot(history.history['accuracy'])\n",
        "plt.plot(history.history['val_accuracy'])\n",
        "plt.show()"
      ],
      "metadata": {
        "id": "6O4CEJpvHdM6",
        "colab": {
          "base_uri": "https://localhost:8080/",
          "height": 430
        },
        "outputId": "3ebcbc16-299d-4339-8e2a-e7c2e68c01f2"
      },
      "execution_count": 18,
      "outputs": [
        {
          "output_type": "display_data",
          "data": {
            "text/plain": [
              "<Figure size 640x480 with 1 Axes>"
            ],
            "image/png": "[encoded data removed]"
          },
          "metadata": {}
        }
      ]
    },
    {
      "cell_type": "code",
      "source": [
        "plt.imshow(X_test[0])"
      ],
      "metadata": {
        "id": "OJygh_JVHe5I",
        "colab": {
          "base_uri": "https://localhost:8080/",
          "height": 447
        },
        "outputId": "ac669e8e-da1e-492f-91f8-950b9580ad62"
      },
      "execution_count": 19,
      "outputs": [
        {
          "output_type": "execute_result",
          "data": {
            "text/plain": [
              "<matplotlib.image.AxesImage at 0x7ad90d72a1a0>"
            ]
          },
          "metadata": {},
          "execution_count": 19
        },
        {
          "output_type": "display_data",
          "data": {
            "text/plain": [
              "<Figure size 640x480 with 1 Axes>"
            ],
            "image/png": "[encoded data removed]"
          },
          "metadata": {}
        }
      ]
    },
    {
      "cell_type": "code",
      "source": [
        "model.predict(X_test[0].reshape(1,28,28)).argmax(axis=1)"
      ],
      "metadata": {
        "id": "OwZs4Uu4He7d",
        "colab": {
          "base_uri": "https://localhost:8080/"
        },
        "outputId": "cf7c87ea-5013-48db-d8ed-d4c7726ff894"
      },
      "execution_count": 20,
      "outputs": [
        {
          "output_type": "stream",
          "name": "stdout",
          "text": [
            "1/1 [==============================] - 0s 42ms/step\n"
          ]
        },
        {
          "output_type": "execute_result",
          "data": {
            "text/plain": [
              "array([7])"
            ]
          },
          "metadata": {},
          "execution_count": 20
        }
      ]
    },
    {
      "cell_type": "code",
      "source": [
        "plt.imshow(X_test[27])"
      ],
      "metadata": {
        "id": "T4R53tw3HsBj",
        "colab": {
          "base_uri": "https://localhost:8080/",
          "height": 447
        },
        "outputId": "43e6488d-51aa-41f0-9dff-adf76825a08c"
      },
      "execution_count": 21,
      "outputs": [
        {
          "output_type": "execute_result",
          "data": {
            "text/plain": [
              "<matplotlib.image.AxesImage at 0x7ad9974eb4c0>"
            ]
          },
          "metadata": {},
          "execution_count": 21
        },
        {
          "output_type": "display_data",
          "data": {
            "text/plain": [
              "<Figure size 640x480 with 1 Axes>"
            ],
            "image/png": "[encoded data removed]"
          },
          "metadata": {}
        }
      ]
    },
    {
      "cell_type": "code",
      "source": [
        "model.predict(X_test[27].reshape(1,28,28)).argmax(axis=1)"
      ],
      "metadata": {
        "id": "IcPMdb8cHsD0",
        "colab": {
          "base_uri": "https://localhost:8080/"
        },
        "outputId": "866ffea9-98f2-452f-bbfe-299502694142"
      },
      "execution_count": 22,
      "outputs": [
        {
          "output_type": "stream",
          "name": "stdout",
          "text": [
            "1/1 [==============================] - 0s 22ms/step\n"
          ]
        },
        {
          "output_type": "execute_result",
          "data": {
            "text/plain": [
              "array([4])"
            ]
          },
          "metadata": {},
          "execution_count": 22
        }
      ]
    },
    {
      "cell_type": "code",
      "source": [],
      "metadata": {
        "id": "vERUUm01MBgl"
      },
      "execution_count": 22,
      "outputs": []
    }
  ]
}